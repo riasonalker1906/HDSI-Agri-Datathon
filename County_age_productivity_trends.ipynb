{
  "nbformat": 4,
  "nbformat_minor": 0,
  "metadata": {
    "colab": {
      "provenance": [],
      "include_colab_link": true
    },
    "kernelspec": {
      "name": "python3",
      "display_name": "Python 3"
    },
    "language_info": {
      "name": "python"
    }
  },
  "cells": [
    {
      "cell_type": "markdown",
      "metadata": {
        "id": "view-in-github",
        "colab_type": "text"
      },
      "source": [
        "<a href=\"https://colab.research.google.com/github/riasonalker1906/aging-farmer-demographic-productivity/blob/main/County_age_productivity_trends.ipynb\" target=\"_parent\"><img src=\"https://colab.research.google.com/assets/colab-badge.svg\" alt=\"Open In Colab\"/></a>"
      ]
    },
    {
      "cell_type": "code",
      "execution_count": null,
      "metadata": {
        "id": "7Z6alnHYQOus",
        "colab": {
          "base_uri": "https://localhost:8080/"
        },
        "outputId": "e8d449dd-3ee1-407b-8cc7-00c2493ad622"
      },
      "outputs": [
        {
          "output_type": "stream",
          "name": "stdout",
          "text": [
            "\u001b[?25l   \u001b[90m━━━━━━━━━━━━━━━━━━━━━━━━━━━━━━━━━━━━━━━━\u001b[0m \u001b[32m0.0/130.5 kB\u001b[0m \u001b[31m?\u001b[0m eta \u001b[36m-:--:--\u001b[0m\r\u001b[2K   \u001b[91m━━━━━━━━━━━━━━━━━━━━━━━━━━━━━━━\u001b[0m\u001b[90m╺\u001b[0m\u001b[90m━━━━━━━━\u001b[0m \u001b[32m102.4/130.5 kB\u001b[0m \u001b[31m2.9 MB/s\u001b[0m eta \u001b[36m0:00:01\u001b[0m\r\u001b[2K   \u001b[90m━━━━━━━━━━━━━━━━━━━━━━━━━━━━━━━━━━━━━━━━\u001b[0m \u001b[32m130.5/130.5 kB\u001b[0m \u001b[31m1.9 MB/s\u001b[0m eta \u001b[36m0:00:00\u001b[0m\n",
            "\u001b[?25h"
          ]
        }
      ],
      "source": [
        "!pip install --upgrade --quiet gcsfs google-cloud-storage"
      ]
    },
    {
      "cell_type": "markdown",
      "source": [
        "**Authenticating access to Google Cloud Services**\n",
        "\n"
      ],
      "metadata": {
        "id": "sXBovIzH3Vpp"
      }
    },
    {
      "cell_type": "code",
      "source": [
        "## Authenticate your Google account to access Google Cloud services. This will allow you to interact with Google Cloud Storage using the credentials associated with your account.\n",
        "## Also import your Google Drive to access your team's Shared Google Drive as well as Operating System\n",
        "%%capture\n",
        "from google.colab import auth\n",
        "from google.colab import drive\n",
        "import os\n",
        "auth.authenticate_user()\n",
        "#drive.mount('/content/drive', force_remount=True)\n",
        "\n",
        "## If your team is using a Shared Drive in a Google Workspace\n",
        "#directory_path = '/content/drive/Shared drives/YOUR_SHARED_DRIVE_NAME/'\n",
        "\n",
        "## if your team is using a Shared Folder in a non-Google Workspace\n",
        "#directory_path = '/content/drive/MyDrive/YOUR_SHARED_FOLDER_NAME/'\n"
      ],
      "metadata": {
        "id": "OuqmyP2XTMgu"
      },
      "execution_count": null,
      "outputs": []
    },
    {
      "cell_type": "code",
      "source": [
        "## Initialize the Google Cloud Storage client.\n",
        "from google.cloud import storage\n",
        "client = storage.Client(project='HDSI-Agri-Datathon-2024')"
      ],
      "metadata": {
        "id": "96anxa7WTQw4"
      },
      "execution_count": null,
      "outputs": []
    },
    {
      "cell_type": "code",
      "source": [
        "# Define the folder path in the bucket (e.g., 'your_folder_name/')\n",
        "%%capture\n",
        "folder_path = 'HDSI_AGRI_Prompt_2/'\n",
        "\n",
        "\n",
        "# List blobs that are within the specified folder\n",
        "blobs_in_folder = list(bucket.list_blobs(prefix=folder_path))\n",
        "\n",
        "# Initialize variable to count the files in the folder\n",
        "file_count = 0\n",
        "\n",
        "# List all files in the specified folder\n",
        "for blob in blobs_in_folder:\n",
        "    # Exclude subfolders and only list files\n",
        "    if not blob.name.endswith('/'):\n",
        "        file_count += 1\n"
      ],
      "metadata": {
        "id": "JhABivIsTWiv",
        "colab": {
          "base_uri": "https://localhost:8080/",
          "height": 216
        },
        "outputId": "406a8264-1a23-4bb0-9d95-9331fd3bc139"
      },
      "execution_count": null,
      "outputs": [
        {
          "output_type": "error",
          "ename": "NameError",
          "evalue": "name 'bucket' is not defined",
          "traceback": [
            "\u001b[0;31m---------------------------------------------------------------------------\u001b[0m",
            "\u001b[0;31mNameError\u001b[0m                                 Traceback (most recent call last)",
            "\u001b[0;32m<ipython-input-4-ee0b2c885598>\u001b[0m in \u001b[0;36m<cell line: 5>\u001b[0;34m()\u001b[0m\n\u001b[1;32m      3\u001b[0m \u001b[0;34m\u001b[0m\u001b[0m\n\u001b[1;32m      4\u001b[0m \u001b[0;31m# List blobs that are within the specified folder\u001b[0m\u001b[0;34m\u001b[0m\u001b[0;34m\u001b[0m\u001b[0m\n\u001b[0;32m----> 5\u001b[0;31m \u001b[0mblobs_in_folder\u001b[0m \u001b[0;34m=\u001b[0m \u001b[0mlist\u001b[0m\u001b[0;34m(\u001b[0m\u001b[0mbucket\u001b[0m\u001b[0;34m.\u001b[0m\u001b[0mlist_blobs\u001b[0m\u001b[0;34m(\u001b[0m\u001b[0mprefix\u001b[0m\u001b[0;34m=\u001b[0m\u001b[0mfolder_path\u001b[0m\u001b[0;34m)\u001b[0m\u001b[0;34m)\u001b[0m\u001b[0;34m\u001b[0m\u001b[0;34m\u001b[0m\u001b[0m\n\u001b[0m\u001b[1;32m      6\u001b[0m \u001b[0;34m\u001b[0m\u001b[0m\n\u001b[1;32m      7\u001b[0m \u001b[0;31m# Initialize variable to count the files in the folder\u001b[0m\u001b[0;34m\u001b[0m\u001b[0;34m\u001b[0m\u001b[0m\n",
            "\u001b[0;31mNameError\u001b[0m: name 'bucket' is not defined"
          ]
        }
      ]
    },
    {
      "cell_type": "code",
      "source": [
        "# Mount Google Drive\n",
        "%%capture\n",
        "from google.colab import drive\n",
        "drive.mount('/content/drive')\n",
        "\n",
        "# Define the folder path in the bucket (e.g., 'HDSI_AGRI_Prompt_3/')\n",
        "folder_path = 'HDSI_AGRI_Prompt_2/'\n",
        "\n",
        "# Google Drive directory where you want to download the files\n",
        "drive_directory = '/content/drive/MyDrive/HDSI_personal/'\n",
        "\n",
        "# Create the directory in Google Drive if it doesn't exist\n",
        "import os\n",
        "if not os.path.exists(drive_directory):\n",
        "    os.makedirs(drive_directory)\n",
        "\n",
        "# List blobs that are within the specified folder\n",
        "blobs_in_folder = list(bucket.list_blobs(prefix=folder_path))\n",
        "\n",
        "# Initialize variable to count the files in the folder\n",
        "file_count = 0\n",
        "\n",
        "# List all files in the specified folder and download them to Google Drive\n",
        "for blob in blobs_in_folder:\n",
        "    # Exclude subfolders and only list files\n",
        "    if not blob.name.endswith('/'):\n",
        "        file_count += 1\n",
        "\n",
        "        # Download the file to Google Drive\n",
        "        local_file_path = os.path.join(drive_directory, os.path.basename(blob.name))\n",
        "        blob.download_to_filename(local_file_path)\n",
        "\n"
      ],
      "metadata": {
        "id": "OY9h_WQ0TZbS",
        "colab": {
          "base_uri": "https://localhost:8080/",
          "height": 216
        },
        "outputId": "90be7a17-eb48-4e55-ce1e-c80f391c8775"
      },
      "execution_count": null,
      "outputs": [
        {
          "output_type": "error",
          "ename": "NameError",
          "evalue": "name 'bucket' is not defined",
          "traceback": [
            "\u001b[0;31m---------------------------------------------------------------------------\u001b[0m",
            "\u001b[0;31mNameError\u001b[0m                                 Traceback (most recent call last)",
            "\u001b[0;32m<ipython-input-5-c67cf25c102e>\u001b[0m in \u001b[0;36m<cell line: 16>\u001b[0;34m()\u001b[0m\n\u001b[1;32m     14\u001b[0m \u001b[0;34m\u001b[0m\u001b[0m\n\u001b[1;32m     15\u001b[0m \u001b[0;31m# List blobs that are within the specified folder\u001b[0m\u001b[0;34m\u001b[0m\u001b[0;34m\u001b[0m\u001b[0m\n\u001b[0;32m---> 16\u001b[0;31m \u001b[0mblobs_in_folder\u001b[0m \u001b[0;34m=\u001b[0m \u001b[0mlist\u001b[0m\u001b[0;34m(\u001b[0m\u001b[0mbucket\u001b[0m\u001b[0;34m.\u001b[0m\u001b[0mlist_blobs\u001b[0m\u001b[0;34m(\u001b[0m\u001b[0mprefix\u001b[0m\u001b[0;34m=\u001b[0m\u001b[0mfolder_path\u001b[0m\u001b[0;34m)\u001b[0m\u001b[0;34m)\u001b[0m\u001b[0;34m\u001b[0m\u001b[0;34m\u001b[0m\u001b[0m\n\u001b[0m\u001b[1;32m     17\u001b[0m \u001b[0;34m\u001b[0m\u001b[0m\n\u001b[1;32m     18\u001b[0m \u001b[0;31m# Initialize variable to count the files in the folder\u001b[0m\u001b[0;34m\u001b[0m\u001b[0;34m\u001b[0m\u001b[0m\n",
            "\u001b[0;31mNameError\u001b[0m: name 'bucket' is not defined"
          ]
        }
      ]
    },
    {
      "cell_type": "code",
      "source": [
        "%%capture\n",
        "import pandas as pd\n",
        "from google.cloud import storage\n",
        "import io\n",
        "\n",
        "\n",
        "# Initialize the Google Cloud Storage client.\n",
        "client = storage.Client(project='HDSI-Agri-Datathon-2024')\n",
        "\n",
        "bucket_name = 'hdsi-agri-prompt-data'\n",
        "blob_name = 'HDSI_AGRI_Prompt_2/sales_data_county.csv'\n",
        "\n",
        "# Access the specified bucket and blob\n",
        "bucket = client.bucket(bucket_name)\n",
        "blob = bucket.blob(blob_name)\n",
        "\n",
        "# Download the blob's content as bytes\n",
        "content = blob.download_as_bytes()\n",
        "\n",
        "# Load the CSV data from the downloaded content using io.BytesIO\n",
        "sales_totals_county = pd.read_csv(io.BytesIO(content))"
      ],
      "metadata": {
        "id": "PEkSz6duTmyT"
      },
      "execution_count": null,
      "outputs": []
    },
    {
      "cell_type": "markdown",
      "source": [
        "**Data Cleaning: Removing Missing Values**"
      ],
      "metadata": {
        "id": "HjRgQLqq3txn"
      }
    },
    {
      "cell_type": "code",
      "source": [
        "# Setting a threshold for missing values (e.g., 50%)\n",
        "threshold = 0.50\n",
        "\n",
        "# Calculate the percentage of missing values in each column\n",
        "missing_percent = sales_totals_county.isna().mean()\n",
        "\n",
        "# Find columns where the percentage of missing values exceeds the threshold\n",
        "cols_to_drop = missing_percent[missing_percent > threshold].index\n",
        "\n",
        "# Drop those columns\n",
        "sales_totals_county_cleaned = sales_totals_county.drop(columns=cols_to_drop)"
      ],
      "metadata": {
        "id": "7OFzdSITbS7q"
      },
      "execution_count": null,
      "outputs": []
    },
    {
      "cell_type": "code",
      "source": [
        "# Drop rows with NaN values\n",
        "sales_totals_county_cleaned = sales_totals_county_cleaned.dropna()\n",
        "\n",
        "# Drop rows where any cell contains the value '(D)'\n",
        "sales_totals_county_cleaned = sales_totals_county_cleaned[~sales_totals_county_cleaned.isin(['(D)']).any(axis=1)]"
      ],
      "metadata": {
        "id": "A6mgBU91drEG"
      },
      "execution_count": null,
      "outputs": []
    },
    {
      "cell_type": "code",
      "source": [
        "# Remove rows where the 'County_Code' column contains the value 999 #\n",
        "sales_totals_county_cleaned = sales_totals_county_cleaned[sales_totals_county_cleaned['COUNTY_CODE'] != 999]"
      ],
      "metadata": {
        "id": "SqF5vwSnKSll"
      },
      "execution_count": null,
      "outputs": []
    },
    {
      "cell_type": "markdown",
      "source": [
        "**Categorizing Sales and Operations with Sales columns for Calculation purposes**"
      ],
      "metadata": {
        "id": "vk5Qt16Z4qP2"
      }
    },
    {
      "cell_type": "code",
      "source": [
        "# Find the sales columns\n",
        "sales_columns = sales_totals_county_cleaned.filter(like='_SALES_MEASURED_IN_DOLLARS').columns\n",
        "\n",
        "# Find the operation of sales columns\n",
        "ops_columns = sales_totals_county_cleaned.filter(like='_OPERATIONS_WITH_SALES').columns\n"
      ],
      "metadata": {
        "id": "Pq7EQJqdYh2q"
      },
      "execution_count": null,
      "outputs": []
    },
    {
      "cell_type": "markdown",
      "source": [
        "**Combining State and County FIP codes**"
      ],
      "metadata": {
        "id": "AdYbUGWL42OD"
      }
    },
    {
      "cell_type": "code",
      "source": [
        "# Assuming raw_df contains the original DataFrame\n",
        "sales_totals_county_cleaned['STATE_FIPS_CODE'] = sales_totals_county['STATE_FIPS_CODE'].apply(lambda x: str(x).zfill(2))\n",
        "sales_totals_county_cleaned['COUNTY_CODE'] = sales_totals_county['COUNTY_CODE'].apply(lambda x: str(x).zfill(3))\n",
        "\n",
        "# Concatenate the state and county FIPS codes\n",
        "sales_totals_county_cleaned['County FIP'] = sales_totals_county_cleaned['STATE_FIPS_CODE'] + sales_totals_county_cleaned['COUNTY_CODE']"
      ],
      "metadata": {
        "id": "TZkF8dYAHZmL"
      },
      "execution_count": null,
      "outputs": []
    },
    {
      "cell_type": "markdown",
      "source": [
        "**Measuring Economic Productivity**"
      ],
      "metadata": {
        "id": "LBriBOZ-5L7l"
      }
    },
    {
      "cell_type": "code",
      "source": [
        "\n",
        "import numpy as np\n",
        "import pandas as pd\n",
        "\n",
        "# Function to clean and convert columns to float\n",
        "def clean_and_convert_to_float(df, columns):\n",
        "    for column in columns:\n",
        "        # Convert to string first if necessary\n",
        "        df[column] = df[column].astype(str).str.replace(',', '')  # Remove commas\n",
        "        df[column] = pd.to_numeric(df[column], errors='coerce')  # Convert to numeric\n",
        "    return df\n",
        "\n",
        "# Set the desired type for ops_columns and sales_columns\n",
        "sales_totals_county_cleaned = clean_and_convert_to_float(sales_totals_county_cleaned, ops_columns)\n",
        "sales_totals_county_cleaned = clean_and_convert_to_float(sales_totals_county_cleaned, sales_columns)\n",
        "\n",
        "# Create new columns for total sales and total quantity sold\n",
        "sales_totals_county_cleaned['Total_Sales'] = sales_totals_county_cleaned[sales_columns].sum(axis=1)\n",
        "sales_totals_county_cleaned['Number_of_Operations'] = sales_totals_county_cleaned[ops_columns].sum(axis=1)\n",
        "\n",
        "\n",
        "# Calculate Average Sales per Operation\n",
        "sales_totals_county_cleaned['Average_Sales_per_Operation'] = (\n",
        "    sales_totals_county_cleaned['Total_Sales'] / sales_totals_county_cleaned['Number_of_Operations']\n",
        ")\n",
        "\n"
      ],
      "metadata": {
        "id": "jJPKuRMi9-xb"
      },
      "execution_count": null,
      "outputs": []
    },
    {
      "cell_type": "markdown",
      "source": [
        "**Merging Cleaned Data frames**"
      ],
      "metadata": {
        "id": "0hhqTpVU5QK9"
      }
    },
    {
      "cell_type": "code",
      "source": [
        "%%capture\n",
        "\n",
        "from google.colab import drive\n",
        "import pandas as pd\n",
        "\n",
        "# Mount Google Drive\n",
        "drive.mount('/content/drive')\n",
        "\n",
        "# Load the CSV files from the shared drive\n",
        "sales_df = sales_totals_county_cleaned\n",
        "age_df = pd.read_csv('/content/drive/MyDrive/Harvard Datathon 2024/county_age_data_no999.csv')\n",
        "\n",
        "# Ensure 'County FIP' is string in both DataFrames\n",
        "age_df['County FIP'] = age_df['County FIP'].astype(str)\n",
        "sales_df['County FIP'] = sales_df['County FIP'].astype(str)\n",
        "\n",
        "# Merge the two DataFrames on 'year' and 'County FIP'\n",
        "merged_df = pd.merge(age_df, sales_df[['YEAR', 'County FIP', 'Average_Sales_per_Operation']], on=['YEAR','County FIP'])\n",
        "\n",
        "# Optionally, save the merged DataFrame to a new CSV file in the shared drive\n",
        "merged_df.to_csv('/content/drive/MyDrive/Harvard Datathon 2024/merged_county_data.csv', index=False)\n",
        "\n"
      ],
      "metadata": {
        "id": "IANtsakoAI7k"
      },
      "execution_count": null,
      "outputs": []
    },
    {
      "cell_type": "markdown",
      "source": [
        "**Categorizing Top 25% and Bottom 25% counties based on Average Sales per Operation**"
      ],
      "metadata": {
        "id": "S26MQUAm5UNP"
      }
    },
    {
      "cell_type": "code",
      "source": [
        "\n",
        "import pandas as pd\n",
        "\n",
        "# Sort DataFrame by 'Average_Sales_per_Operation' in descending order (highest to lowest)\n",
        "sorted_df = merged_df.sort_values(by='Average_Sales_per_Operation', ascending=False)\n",
        "\n",
        "# Calculate the threshold for the top 5%, 10%, and 25% most productive counties\n",
        "top_25_percent_threshold = sorted_df['Average_Sales_per_Operation'].quantile(0.75)\n",
        "\n",
        "# Filter the top 5%, 10%, and 25% most productive counties\n",
        "top_25_percent = sorted_df[sorted_df['Average_Sales_per_Operation'] >= top_25_percent_threshold]\n",
        "\n",
        "# Calculate the threshold for the bottom 5%, 10%, and 25% least productive counties\n",
        "bottom_25_percent_threshold = sorted_df['Average_Sales_per_Operation'].quantile(0.25)\n",
        "\n",
        "# Filter the bottom 5%, 10%, and 25% least productive counties\n",
        "bottom_25_percent = sorted_df[sorted_df['Average_Sales_per_Operation'] <= bottom_25_percent_threshold]"
      ],
      "metadata": {
        "id": "m4vBW6vlHCi9"
      },
      "execution_count": null,
      "outputs": []
    },
    {
      "cell_type": "markdown",
      "source": [
        "**Verifying Data Types of columns to be used in Modelling**"
      ],
      "metadata": {
        "id": "QxTtX0YZ5eE_"
      }
    },
    {
      "cell_type": "code",
      "source": [
        "%%capture\n",
        "top_25_percent['Avg_Age'] = pd.to_numeric(top_25_percent['Avg_Age'], errors='coerce')\n",
        "bottom_25_percent['Avg_Age'] = pd.to_numeric(bottom_25_percent['Avg_Age'], errors='coerce')"
      ],
      "metadata": {
        "id": "8L_f_rxbJreb"
      },
      "execution_count": null,
      "outputs": []
    },
    {
      "cell_type": "markdown",
      "source": [
        "**Implementing the Model: Polynomial Regression**"
      ],
      "metadata": {
        "id": "hWlLzBJR5m4h"
      }
    },
    {
      "cell_type": "code",
      "source": [
        "\n",
        "import numpy as np\n",
        "import matplotlib.pyplot as plt\n",
        "import seaborn as sns\n",
        "from sklearn.model_selection import train_test_split\n",
        "from sklearn.preprocessing import PolynomialFeatures\n",
        "from sklearn.linear_model import LinearRegression\n",
        "from sklearn.metrics import mean_squared_error\n",
        "import statsmodels.api as sm\n",
        "\n",
        "\n",
        "# Split the data into training and testing sets (e.g., 80% training, 20% testing)\n",
        "X_top = top_25_percent[['YEAR']]\n",
        "y_top = top_25_percent['Avg_Age']\n",
        "X_bottom = bottom_25_percent[['YEAR']]\n",
        "y_bottom = bottom_25_percent['Avg_Age']\n",
        "\n",
        "X_top_train, X_top_test, y_top_train, y_top_test = train_test_split(X_top, y_top, test_size=0.2, random_state=42)\n",
        "X_bottom_train, X_bottom_test, y_bottom_train, y_bottom_test = train_test_split(X_bottom, y_bottom, test_size=0.2, random_state=42)\n",
        "\n",
        "# Polynomial transformation (degree 2, can be changed)\n",
        "poly = PolynomialFeatures(degree=2)\n",
        "\n",
        "# Transform the features for both top and bottom counties\n",
        "X_top_train_poly = poly.fit_transform(X_top_train)\n",
        "X_bottom_train_poly = poly.fit_transform(X_bottom_train)\n",
        "\n",
        "# Fit the model (using linear regression on polynomial features)\n",
        "model_top = LinearRegression().fit(X_top_train_poly, y_top_train)\n",
        "model_bottom = LinearRegression().fit(X_bottom_train_poly, y_bottom_train)\n",
        "\n",
        "# Predict on the testing data\n",
        "X_top_test_poly = poly.transform(X_top_test)\n",
        "X_bottom_test_poly = poly.transform(X_bottom_test)\n",
        "\n",
        "y_top_pred = model_top.predict(X_top_test_poly)\n",
        "y_bottom_pred = model_bottom.predict(X_bottom_test_poly)\n",
        "\n",
        "# Calculate mean squared error to evaluate performance\n",
        "mse_top = mean_squared_error(y_top_test, y_top_pred)\n",
        "mse_bottom = mean_squared_error(y_bottom_test, y_bottom_pred)\n",
        "\n",
        "# Get the slopes (coefficients)\n",
        "slope_top = model_top.coef_[0]\n",
        "slope_bottom = model_bottom.coef_[0]\n",
        "\n",
        "# Plot the training data with regression lines\n",
        "fig, ax = plt.subplots(figsize=(10, 6))\n",
        "\n",
        "sns.regplot(x=X_top_train['YEAR'], y=y_top_train, ax=ax,\n",
        "            label='Top 25% Counties', scatter_kws={'color': 'blue'},\n",
        "            line_kws={'color': 'blue'}, order=2)\n",
        "\n",
        "sns.regplot(x=X_bottom_train['YEAR'], y=y_bottom_train, ax=ax,\n",
        "            label='Bottom 25% Counties', scatter_kws={'color': 'red'},\n",
        "            line_kws={'color': 'red'}, order=2)\n",
        "\n",
        "ax.set_xlabel('Years')\n",
        "ax.set_ylabel('Average Age')\n",
        "ax.set_title('Polynomial Regression for Top and Bottom 25% Counties')\n",
        "\n",
        "ax.legend()\n",
        "plt.show()\n",
        "\n",
        "# Fit using statsmodels for summary statistics (example for top counties)\n",
        "X_top_train_sm = sm.add_constant(X_top_train_poly)  # Add a constant term\n",
        "model_top_sm = sm.OLS(y_top_train, X_top_train_sm).fit()"
      ],
      "metadata": {
        "id": "0S06Ez6mxtvX",
        "colab": {
          "base_uri": "https://localhost:8080/",
          "height": 564
        },
        "outputId": "afc63853-a88a-4dfb-a72e-999915a92891"
      },
      "execution_count": null,
      "outputs": [
        {
          "output_type": "display_data",
          "data": {
            "text/plain": [
              "<Figure size 1000x600 with 1 Axes>"
            ],
            "image/png": "[encoded data removed]"
          },
          "metadata": {}
        }
      ]
    }
  ]
}